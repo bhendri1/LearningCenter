{
 "cells": [
  {
   "cell_type": "code",
   "execution_count": 1,
   "id": "c4abc3cf",
   "metadata": {},
   "outputs": [],
   "source": [
    "from selenium import webdriver\n",
    "from selenium.webdriver.common.by import By"
   ]
  },
  {
   "cell_type": "code",
   "execution_count": 2,
   "id": "2c2d7796",
   "metadata": {},
   "outputs": [],
   "source": [
    "driver = webdriver.Chrome()\n",
    "driver.get('https://www.autotrader.com/')"
   ]
  },
  {
   "cell_type": "code",
   "execution_count": 3,
   "id": "31c298b2",
   "metadata": {},
   "outputs": [],
   "source": [
    "#Place any simple convenient page locator objects here\n",
    "\n",
    "make_code_select = driver.find_element(By.CSS_SELECTOR, 'select[name=\"makeCode\"]')\n",
    "search_button = driver.find_element(By.CSS_SELECTOR, 'button#search')"
   ]
  },
  {
   "cell_type": "code",
   "execution_count": 4,
   "id": "60061424",
   "metadata": {},
   "outputs": [
    {
     "name": "stdout",
     "output_type": "stream",
     "text": [
      "current makeCode value = \"\"\n"
     ]
    }
   ],
   "source": [
    "print(f'current makeCode value = \"{make_code_select.get_attribute(\"value\")}\"')\n",
    "before_is_disp = make_code_select.is_displayed()\n",
    "before_is_enbld = make_code_select.is_enabled()\n",
    "before_is_selected = make_code_select.is_selected()\n",
    "make_code_select.click()\n",
    "after_is_disp = make_code_select.is_displayed()\n",
    "after_is_enbld = make_code_select.is_enabled()\n",
    "after_is_selected = make_code_select.is_selected()"
   ]
  },
  {
   "cell_type": "code",
   "execution_count": 5,
   "id": "94184692",
   "metadata": {},
   "outputs": [
    {
     "name": "stdout",
     "output_type": "stream",
     "text": [
      "the default option is \"Any Make\"\n",
      "the number of option groups is 2\n",
      "the option group names are [Popular Makes, All Makes]\n"
     ]
    }
   ],
   "source": [
    "any_make_option = make_code_select.find_element(By.CSS_SELECTOR, 'option[label=\"Any Make\"]')\n",
    "\n",
    "make_option_grps = make_code_select.find_elements(By.TAG_NAME, 'optgroup')\n",
    "\n",
    "default_option = make_code_select.find_element(By.CSS_SELECTOR, 'option:checked')\n",
    "print(f'the default option is \"{default_option.text}\"')\n",
    "\n",
    "print(f'the number of option groups is {len(make_option_grps)}')\n",
    "option_group_names = [option.get_attribute('label') for option in make_option_grps]\n",
    "print(f'the option group names are [{\", \".join(option_group_names)}]')\n"
   ]
  },
  {
   "cell_type": "code",
   "execution_count": 6,
   "id": "d2344821",
   "metadata": {},
   "outputs": [
    {
     "data": {
      "text/plain": [
       "'BMW'"
      ]
     },
     "execution_count": 6,
     "metadata": {},
     "output_type": "execute_result"
    }
   ],
   "source": [
    "bmw_make_option = make_code_select.find_element(By.CSS_SELECTOR, 'option[value=\"BMW\"]')\n",
    "bmw_make_option.click()\n",
    "\n",
    "make_code_select.get_attribute('value')"
   ]
  },
  {
   "cell_type": "code",
   "execution_count": null,
   "id": "b7b4676c",
   "metadata": {},
   "outputs": [],
   "source": []
  },
  {
   "cell_type": "code",
   "execution_count": 7,
   "id": "7607af63",
   "metadata": {},
   "outputs": [],
   "source": [
    "search_button.click()"
   ]
  }
 ],
 "metadata": {
  "kernelspec": {
   "display_name": ".venv",
   "language": "python",
   "name": "python3"
  },
  "language_info": {
   "codemirror_mode": {
    "name": "ipython",
    "version": 3
   },
   "file_extension": ".py",
   "mimetype": "text/x-python",
   "name": "python",
   "nbconvert_exporter": "python",
   "pygments_lexer": "ipython3",
   "version": "3.11.9"
  }
 },
 "nbformat": 4,
 "nbformat_minor": 5
}
