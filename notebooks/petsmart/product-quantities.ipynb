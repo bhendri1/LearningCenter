{
 "cells": [
  {
   "cell_type": "code",
   "execution_count": 1,
   "id": "c4abc3cf",
   "metadata": {},
   "outputs": [],
   "source": [
    "from selenium import webdriver\n",
    "from selenium.common.exceptions import NoSuchElementException\n",
    "from selenium.webdriver.common.by import By\n",
    "\n",
    "import json\n",
    "import time"
   ]
  },
  {
   "cell_type": "code",
   "execution_count": 2,
   "id": "ad6c1f02",
   "metadata": {},
   "outputs": [],
   "source": [
    "JSON_FILE_NAME = 'productQuantities.json'"
   ]
  },
  {
   "cell_type": "code",
   "execution_count": 3,
   "id": "2c2d7796",
   "metadata": {},
   "outputs": [],
   "source": [
    "driver = webdriver.Edge()"
   ]
  },
  {
   "cell_type": "code",
   "execution_count": 4,
   "id": "2bf58efb",
   "metadata": {},
   "outputs": [],
   "source": [
    "driver.get('https://www.petsmart.com/dog/treats/dental-treats-and-chews/greeniesandtrade-adult-regular-dog-dental-treats--natural-oral-health-original-4750.html')"
   ]
  },
  {
   "cell_type": "code",
   "execution_count": null,
   "id": "f4db83ec",
   "metadata": {},
   "outputs": [
    {
     "data": {
      "text/plain": [
       "{'count': 7,\n",
       " 'list': [{'size': '3 Count', 'price': '$5.79'},\n",
       "  {'size': '6 Count', 'price': '$9.99'},\n",
       "  {'size': '12 Count', 'price': '$17.99'},\n",
       "  {'size': '27 Count', 'price': '$32.99'},\n",
       "  {'size': '36 Count', 'price': '$39.99'},\n",
       "  {'size': '54 Count', 'price': '$58.99'},\n",
       "  {'size': '72 Count', 'price': '$76.99'}]}"
      ]
     },
     "execution_count": 5,
     "metadata": {},
     "output_type": "execute_result"
    }
   ],
   "source": [
    "\n",
    "\n",
    "size_info"
   ]
  },
  {
   "cell_type": "code",
   "execution_count": null,
   "id": "428f5af6",
   "metadata": {},
   "outputs": [],
   "source": [
    "product_quantity_dict = {}"
   ]
  },
  {
   "cell_type": "code",
   "execution_count": null,
   "id": "d205dc60",
   "metadata": {},
   "outputs": [],
   "source": [
    "priduct_price_container = driver.find_element(By.CSS_SELECTOR, 'div.product-price')\n",
    "product_price_div = priduct_price_container.find_element(By.TAG_NAME, 'div')\n",
    "\n",
    "product_price_div.text"
   ]
  },
  {
   "cell_type": "code",
   "execution_count": null,
   "id": "6a6d57da",
   "metadata": {},
   "outputs": [],
   "source": [
    "'''\n",
    "    <div class=\"size-variant__fields\"> -> product_size_fields\n",
    "        <dl class=\"sparky-c-definition-list product-variant-descriptor sparky-c-definition-list--highlight-definition\">\n",
    "            <div class=\"sparky-c-definition-list__item size-variant__radio-fields-title\" data-testid=\"variant-title-quantity\">\n",
    "                <dt class=\"sparky-c-definition-list__term\">Quantity:</dt>\n",
    "                <dd class=\"sparky-c-definition-list__description\">54 Count</dd>\n",
    "            </div>\n",
    "        </dl>\n",
    "        <fieldset class=\"sparky-c-radio-field sparky-c-radio-field--toggle\" data-testid=\"variant-selection-quantity\">\n",
    "            <legend class=\"sparky-c-legend sparky-c-radio-field__label sparky-u-is-vishidden sparky-c-legend--small\">Choose size </legend>\n",
    "            <div class=\"sparky-c-radio-field__body\">\n",
    "                <ul class=\"sparky-c-radio-field__list\">\n",
    "                    <li class=\"sparky-c-radio-field__item\" data-testid=\"variant-button-3 Count\">\n",
    "                        <div class=\"sparky-c-radio-field__item-body\">\n",
    "                            <div class=\"sparky-c-radio sparky-c-radio-field__item-control\">\n",
    "                                <input class=\"sparky-c-radio__input\" id=\"Xq7exkDx0nsEo1A-4O-uI\" \n",
    "                                    aria-checked=\"false\" tabindex=\"0\" type=\"radio\" value=\"3 Count\" name=\"ACb_3vJYAndsw42wSnJmX\"\n",
    "                                >\n",
    "                                <span class=\"sparky-c-radio__custom-radio\"></span>\n",
    "                            </div>\n",
    "                            <label class=\"sparky-c-label sparky-c-radio-field__item-label sparky-c-tile\" for=\"Xq7exkDx0nsEo1A-4O-uI\">3 Count </label>\n",
    "                        </div>\n",
    "                    </li>\n",
    "                    ....\n",
    "                </ul>\n",
    "            </div>\n",
    "        </fieldset>\n",
    "    </div>\n",
    "'''\n",
    "\n",
    "product_size_variant_container = driver.find_element(By.CSS_SELECTOR, 'div.size-variant')\n",
    "product_size_fields = product_size_variant_container.find_element(By.CSS_SELECTOR, 'div.size-variant__fields')\n",
    "product_size_label_container = product_size_fields.find_element(By.TAG_NAME, 'dl')\n",
    "product_size_label_dd = product_size_label_container.find_element(By.TAG_NAME, 'dd')\n",
    "\n",
    "product_sizes_fieldset = product_size_fields.find_element(By.TAG_NAME, 'fieldset')\n",
    "product_sizes_ul = product_sizes_fieldset.find_element(By.TAG_NAME, 'ul')\n",
    "product_sizes_li_list = product_sizes_ul.find_elements(By.TAG_NAME, 'li')\n",
    "\n",
    "\n",
    "\n",
    "len(product_sizes_li_list)"
   ]
  },
  {
   "cell_type": "code",
   "execution_count": null,
   "id": "3f22aa2b",
   "metadata": {},
   "outputs": [],
   "source": [
    "size_info = {\n",
    "    'count': len(product_sizes_li_list),\n",
    "    'list': []\n",
    "}\n",
    "for product_size_li in product_sizes_li_list:\n",
    "    product_size_li.click()\n",
    "    product_size_details = {\n",
    "        'size': product_size_label_dd.text,\n",
    "        'price': product_price_div.text\n",
    "    }\n",
    "    size_info['list'].append(product_size_details)\n",
    "print(size_info)"
   ]
  },
  {
   "cell_type": "code",
   "execution_count": null,
   "id": "ec72b521",
   "metadata": {},
   "outputs": [],
   "source": []
  },
  {
   "cell_type": "code",
   "execution_count": null,
   "id": "e9d54caf",
   "metadata": {},
   "outputs": [],
   "source": [
    "with open(JSON_FILE_NAME, 'w') as file:\n",
    "    json.dump(product_quantity_dict, file, indent=4)"
   ]
  },
  {
   "cell_type": "code",
   "execution_count": null,
   "id": "7607af63",
   "metadata": {},
   "outputs": [],
   "source": [
    "driver.close()"
   ]
  }
 ],
 "metadata": {
  "kernelspec": {
   "display_name": ".venv",
   "language": "python",
   "name": "python3"
  },
  "language_info": {
   "codemirror_mode": {
    "name": "ipython",
    "version": 3
   },
   "file_extension": ".py",
   "mimetype": "text/x-python",
   "name": "python",
   "nbconvert_exporter": "python",
   "pygments_lexer": "ipython3",
   "version": "3.11.9"
  }
 },
 "nbformat": 4,
 "nbformat_minor": 5
}
