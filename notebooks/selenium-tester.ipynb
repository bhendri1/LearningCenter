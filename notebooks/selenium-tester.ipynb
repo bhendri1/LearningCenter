{
 "cells": [
  {
   "cell_type": "code",
   "execution_count": 1,
   "id": "2d5b7e4c",
   "metadata": {},
   "outputs": [],
   "source": [
    "from selenium import webdriver\n",
    "from selenium.webdriver.common.by import By"
   ]
  },
  {
   "cell_type": "code",
   "execution_count": 2,
   "id": "37c3348f",
   "metadata": {},
   "outputs": [],
   "source": [
    "\n",
    "\n",
    "\n",
    "driver = webdriver.Chrome()\n",
    "driver.get('https://www.cars.com')"
   ]
  },
  {
   "cell_type": "code",
   "execution_count": null,
   "id": "78a25189",
   "metadata": {},
   "outputs": [],
   "source": [
    "'''\n",
    "    <spark-page-section class=\"hero-search-widget overlay\"></spark-page-section>\n",
    "    <spark-tabs class=\"simplified-search-tabs\" label=\"features\" variant=\"default\">...</spark-tabs>\n",
    "    <spark-tab \n",
    "        slot=\"tab\" panel=\"shop\" id=\"tab-0\" role=\"tab\" aria-selected=\"true\" tabindex=\"0\" variant=\"default\" \n",
    "        data-rs-info=\"{&quot;value&quot;:&quot;shop&quot;}\" aria-controls=\"panel-19\" selected=\"\"\n",
    "    >Shop cars for sale</spark-tab>\n",
    "    \n",
    "    <spark-tab-panel slot=\"panel\" name=\"shop\" id=\"panel-19\" role=\"tabpanel\" aria-labelledby=\"tab-0\" selected=\"\" aria-label=\"shop\">\n",
    "    </spark-tab-panel>\n",
    "'''\n",
    "search_widget_overlay = driver.find_element(By.CSS_SELECTOR, 'spark-page-section.hero-search-widget')"
   ]
  },
  {
   "cell_type": "code",
   "execution_count": 4,
   "id": "d687a497",
   "metadata": {},
   "outputs": [],
   "source": [
    "search_filter_tabs = search_widget_overlay.find_element(By.CSS_SELECTOR, 'spark-tabs.simplified-search-tabs')"
   ]
  },
  {
   "cell_type": "code",
   "execution_count": null,
   "id": "977ca9e7",
   "metadata": {},
   "outputs": [],
   "source": [
    "search_filter_tab_1 = search_filter_tabs.find_element(By.CSS_SELECTOR, 'spark-tab#tab-0')"
   ]
  },
  {
   "cell_type": "code",
   "execution_count": null,
   "id": "fc86f64b",
   "metadata": {},
   "outputs": [],
   "source": [
    "search_filter_tab-panel = search_filter_tabs.find_element(By.CSS_SELECTOR, 'spark-tab-panel#panel-19[name=\"shop\"]')"
   ]
  },
  {
   "cell_type": "code",
   "execution_count": 28,
   "id": "73dfe3fa",
   "metadata": {},
   "outputs": [],
   "source": [
    "'''\n",
    "    <spark-tab-panel slot=\"panel\" name=\"shop\" id=\"panel-19\" role=\"tabpanel\" aria-labelledby=\"tab-0\" selected=\"\" aria-label=\"shop\">\n",
    "        <cars-search-form latitude=\"38.83076\" longitude=\"-77.21443\" zip-code=\"22003\">\n",
    "        </cars-search-form>\n",
    "    </spark-tab-panel>\n",
    "'''\n",
    "cars_search_form = driver.find_element(By.TAG_NAME, 'cars-search-form')\n",
    "cars_search_form_shadow_root = cars_search_form.shadow_root"
   ]
  },
  {
   "cell_type": "code",
   "execution_count": 17,
   "id": "e83f9314",
   "metadata": {},
   "outputs": [],
   "source": [
    "'''\n",
    "    <form action=\"/shopping/results/\" method=\"get\">\n",
    "      <spark-fieldset variant=\"melded\" class=\"false\">\n",
    "        <spark-select data-linkname=\"hp-stock-type-change\" label=\"New/used\" name=\"stock_type\" trid=\"b0282d3e-9424-4cfb-802b-fccaebb6f56b\" hide-optional=\"\" trch=\"\" value=\"used\">\n",
    "          <!--?lit$136664124$--><!----><option value=\"all\">New &amp; used</option><!----><!----><option value=\"new_cpo\">New &amp; certified</option><!----><!----><option value=\"new\">New</option><!----><!----><option value=\"used\">Used</option><!----><!----><option value=\"cpo\">Certified</option><!---->\n",
    "        </spark-select>\n",
    "\n",
    "        <spark-select data-linkname=\"hp-make-change\" label=\"Make\" name=\"makes[]\" trid=\"74b26085-238a-4db8-bc3e-dae7a6f69a06\" hide-optional=\"\" trch=\"\" value=\"hyundai\">\n",
    "          <!--?lit$136664124$--><!---->\n",
    "        <!--?lit$136664124$--><option value=\"\">All makes</option>\n",
    "        <optgroup label=\"Popular makes\"><!--?lit$136664124$--><!----><option value=\"acura\">Acura</option><!----><!----><option value=\"audi\">Audi</option><!----><!----><option value=\"bmw\">BMW</option><!----><!----><option value=\"buick\">Buick</option><!----><!----><option value=\"cadillac\">Cadillac</option><!----><!----><option value=\"chevrolet\">Chevrolet</option><!----><!----><option value=\"chrysler\">Chrysler</option><!----><!----><option value=\"dodge\">Dodge</option><!----><!----><option value=\"ford\">Ford</option><!----><!----><option value=\"genesis\">Genesis</option><!----><!----><option value=\"gmc\">GMC</option><!----><!----><option value=\"honda\">Honda</option><!----><!----><option value=\"hyundai\">Hyundai</option><!----><!----><option value=\"infiniti\">INFINITI</option><!----><!----><option value=\"jaguar\">Jaguar</option><!----><!----><option value=\"jeep\">Jeep</option><!----><!----><option value=\"kia\">Kia</option><!----><!----><option value=\"land_rover\">Land Rover</option><!----><!----><option value=\"lexus\">Lexus</option><!----><!----><option value=\"lincoln\">Lincoln</option><!----><!----><option value=\"mazda\">Mazda</option><!----><!----><option value=\"mercedes_benz\">Mercedes-Benz</option><!----><!----><option value=\"mini\">MINI</option><!----><!----><option value=\"mitsubishi\">Mitsubishi</option><!----><!----><option value=\"nissan\">Nissan</option><!----><!----><option value=\"porsche\">Porsche</option><!----><!----><option value=\"ram\">RAM</option><!----><!----><option value=\"subaru\">Subaru</option><!----><!----><option value=\"tesla\">Tesla</option><!----><!----><option value=\"toyota\">Toyota</option><!----><!----><option value=\"volkswagen\">Volkswagen</option><!----><!----><option value=\"volvo\">Volvo</option><!----></optgroup>\n",
    "        <optgroup label=\"All makes\"><!--?lit$136664124$--><!----><option value=\"ac\">AC</option><!----><!----><option value=\"acura\">Acura</option><!----><!----><option value=\"alfa_romeo\">Alfa Romeo</option><!----><!----><option value=\"am_general\">Am General</option><!----><!----><option value=\"american_motors\">American Motors</option><!----><!----><option value=\"aston_martin\">Aston Martin</option><!----><!----><option value=\"audi\">Audi</option><!----><!----><option value=\"austin\">Austin</option><!----><!----><option value=\"austin_healey\">Austin-Healey</option><!----><!----><option value=\"avanti_motors\">Avanti Motors</option><!----><!----><option value=\"bentley\">Bentley</option><!----><!----><option value=\"bmw\">BMW</option><!----><!----><option value=\"bricklin\">Bricklin</option><!----><!----><option value=\"bugatti\">Bugatti</option><!----><!----><option value=\"buick\">Buick</option><!----><!----><option value=\"cadillac\">Cadillac</option><!----><!----><option value=\"chevrolet\">Chevrolet</option><!----><!----><option value=\"chrysler\">Chrysler</option><!----><!----><option value=\"cord\">Cord</option><!----><!----><option value=\"datsun\">Datsun</option><!----><!----><option value=\"delahaye\">Delahaye</option><!----><!----><option value=\"delorean\">Delorean</option><!----><!----><option value=\"desoto\">Desoto</option><!----><!----><option value=\"detomaso\">DeTomaso</option><!----><!----><option value=\"dodge\">Dodge</option><!----><!----><option value=\"edsel\">Edsel</option><!----><!----><option value=\"excalibur\">Excalibur</option><!----><!----><option value=\"facel_vega\">Facel-Vega</option><!----><!----><option value=\"ferrari\">Ferrari</option><!----><!----><option value=\"fiat\">FIAT</option><!----><!----><option value=\"fisker\">Fisker</option><!----><!----><option value=\"ford\">Ford</option><!----><!----><option value=\"gaz\">GAZ</option><!----><!----><option value=\"genesis\">Genesis</option><!----><!----><option value=\"geo\">Geo</option><!----><!----><option value=\"gmc\">GMC</option><!----><!----><option value=\"griffith\">Griffith</option><!----><!----><option value=\"honda\">Honda</option><!----><!----><option value=\"hudson\">Hudson</option><!----><!----><option value=\"hummer\">Hummer</option><!----><!----><option value=\"hyundai\">Hyundai</option><!----><!----><option value=\"ineos\">INEOS</option><!----><!----><option value=\"infiniti\">INFINITI</option><!----><!----><option value=\"international\">International</option><!----><!----><option value=\"isuzu\">Isuzu</option><!----><!----><option value=\"jaguar\">Jaguar</option><!----><!----><option value=\"jeep\">Jeep</option><!----><!----><option value=\"jensen\">Jensen</option><!----><!----><option value=\"karma\">Karma</option><!----><!----><option value=\"kia\">Kia</option><!----><!----><option value=\"koenigsegg\">Koenigsegg</option><!----><!----><option value=\"lamborghini\">Lamborghini</option><!----><!----><option value=\"lancia\">Lancia</option><!----><!----><option value=\"land_rover\">Land Rover</option><!----><!----><option value=\"lasalle\">LaSalle</option><!----><!----><option value=\"lexus\">Lexus</option><!----><!----><option value=\"lincoln\">Lincoln</option><!----><!----><option value=\"lotus\">Lotus</option><!----><!----><option value=\"lucid\">Lucid</option><!----><!----><option value=\"maserati\">Maserati</option><!----><!----><option value=\"maybach\">Maybach</option><!----><!----><option value=\"mazda\">Mazda</option><!----><!----><option value=\"mclaren\">McLaren</option><!----><!----><option value=\"mercedes_benz\">Mercedes-Benz</option><!----><!----><option value=\"mercury\">Mercury</option><!----><!----><option value=\"mg\">MG</option><!----><!----><option value=\"mini\">MINI</option><!----><!----><option value=\"mitsubishi\">Mitsubishi</option><!----><!----><option value=\"morgan\">Morgan</option><!----><!----><option value=\"nash\">Nash</option><!----><!----><option value=\"nissan\">Nissan</option><!----><!----><option value=\"oldsmobile\">Oldsmobile</option><!----><!----><option value=\"packard\">Packard</option><!----><!----><option value=\"pagani\">Pagani</option><!----><!----><option value=\"panoz\">Panoz</option><!----><!----><option value=\"peugeot\">Peugeot</option><!----><!----><option value=\"plymouth\">Plymouth</option><!----><!----><option value=\"polestar\">Polestar</option><!----><!----><option value=\"pontiac\">Pontiac</option><!----><!----><option value=\"porsche\">Porsche</option><!----><!----><option value=\"ram\">RAM</option><!----><!----><option value=\"rambler\">Rambler</option><!----><!----><option value=\"rivian\">Rivian</option><!----><!----><option value=\"rolls_royce\">Rolls-Royce</option><!----><!----><option value=\"saab\">Saab</option><!----><!----><option value=\"saturn\">Saturn</option><!----><!----><option value=\"scion\">Scion</option><!----><!----><option value=\"smart\">smart</option><!----><!----><option value=\"studebaker\">Studebaker</option><!----><!----><option value=\"subaru\">Subaru</option><!----><!----><option value=\"sunbeam\">Sunbeam</option><!----><!----><option value=\"suzuki\">Suzuki</option><!----><!----><option value=\"tesla\">Tesla</option><!----><!----><option value=\"toyota\">Toyota</option><!----><!----><option value=\"triumph\">Triumph</option><!----><!----><option value=\"vinfast\">VinFast</option><!----><!----><option value=\"volkswagen\">Volkswagen</option><!----><!----><option value=\"volvo\">Volvo</option><!----><!----><option value=\"willys\">Willys</option><!----></optgroup>\n",
    "      <!---->\n",
    "        </spark-select>\n",
    "\n",
    "        <spark-select data-linkname=\"hp-model-change\" label=\"Model\" name=\"models[]\" trid=\"8976b883-2d01-4c22-9f61-92e09b230257\" hide-optional=\"\" trch=\"\" value=\"\">\n",
    "          <!--?lit$136664124$--><!----><option value=\"\">All models</option><!----><!----><option value=\"hyundai-accent\">Accent</option><!----><!----><option value=\"hyundai-azera\">Azera</option><!----><!----><option value=\"hyundai-elantra\">ELANTRA</option><!----><!----><option value=\"hyundai-elantra_gt\">Elantra GT</option><!----><!----><option value=\"hyundai-elantra_hev\">ELANTRA HEV</option><!----><!----><option value=\"hyundai-elantra_n\">ELANTRA N</option><!----><!----><option value=\"hyundai-elantra_touring\">Elantra Touring</option><!----><!----><option value=\"hyundai-entourage\">Entourage</option><!----><!----><option value=\"hyundai-equus\">Equus</option><!----><!----><option value=\"hyundai-genesis\">Genesis</option><!----><!----><option value=\"hyundai-genesis_coupe\">Genesis Coupe</option><!----><!----><option value=\"hyundai-ioniq_5\">IONIQ 5</option><!----><!----><option value=\"hyundai-ioniq_5_n\">IONIQ 5 N</option><!----><!----><option value=\"hyundai-ioniq_6\">IONIQ 6</option><!----><!----><option value=\"hyundai-ioniq_ev\">IONIQ EV</option><!----><!----><option value=\"hyundai-ioniq_hybrid\">IONIQ Hybrid</option><!----><!----><option value=\"hyundai-ioniq_plug_in_hybrid\">IONIQ Plug-In Hybrid</option><!----><!----><option value=\"hyundai-kona\">KONA</option><!----><!----><option value=\"hyundai-kona_ev\">KONA EV</option><!----><!----><option value=\"hyundai-kona_n\">Kona N</option><!----><!----><option value=\"hyundai-nexo\">NEXO</option><!----><!----><option value=\"hyundai-palisade\">PALISADE</option><!----><!----><option value=\"hyundai-santa_cruz\">SANTA CRUZ</option><!----><!----><option value=\"hyundai-santa_fe\">SANTA FE</option><!----><!----><option value=\"hyundai-santa_fe_hev\">SANTA FE HEV</option><!----><!----><option value=\"hyundai-santa_fe_plug_in_hybrid\">Santa Fe Plug-In Hybrid</option><!----><!----><option value=\"hyundai-santa_fe_sport\">Santa Fe Sport</option><!----><!----><option value=\"hyundai-santa_fe_xl\">Santa Fe XL</option><!----><!----><option value=\"hyundai-sonata\">SONATA</option><!----><!----><option value=\"hyundai-sonata_hybrid\">SONATA Hybrid</option><!----><!----><option value=\"hyundai-sonata_plug_in_hybrid\">Sonata Plug-In Hybrid</option><!----><!----><option value=\"hyundai-tiburon\">Tiburon</option><!----><!----><option value=\"hyundai-tucson\">TUCSON</option><!----><!----><option value=\"hyundai-tucson_hybrid\">TUCSON Hybrid</option><!----><!----><option value=\"hyundai-tucson_plug_in_hybrid\">TUCSON Plug-In Hybrid</option><!----><!----><option value=\"hyundai-veloster\">Veloster</option><!----><!----><option value=\"hyundai-veloster_n\">Veloster N</option><!----><!----><option value=\"hyundai-venue\">VENUE</option><!----><!----><option value=\"hyundai-veracruz\">Veracruz</option><!----><!----><option value=\"hyundai-xg350\">XG350</option><!---->\n",
    "        </spark-select>\n",
    "\n",
    "        <spark-select name=\"maximum_distance\" label=\"Distance\" hide-optional=\"\" value=\"50\">\n",
    "          <!--?lit$136664124$--><!----><option value=\"10\">10 miles</option><!----><!----><option value=\"20\">20 miles</option><!----><!----><option value=\"30\">30 miles</option><!----><!----><option value=\"40\">40 miles</option><!----><!----><option value=\"50\">50 miles</option><!----><!----><option value=\"75\">75 miles</option><!----><!----><option value=\"100\">100 miles</option><!----><!----><option value=\"150\">150 miles</option><!----><!----><option value=\"200\">200 miles</option><!----><!----><option value=\"250\">250 miles</option><!----><!----><option value=\"500\">500 miles</option><!----><!----><option value=\"all\">All miles from</option><!---->\n",
    "        </spark-select>\n",
    "\n",
    "        <div class=\"zip-container\">\n",
    "          <spark-input inputmode=\"numeric\" label=\"ZIP\" maxlength=\"5\" name=\"zip\" type=\"tel\" hide-optional=\"\" value=\"22003\">\n",
    "          </spark-input>\n",
    "          <cars-geo-dropdown input-container=\".zip-container\"></cars-geo-dropdown>\n",
    "        </div>\n",
    "\n",
    "        <!--?lit$136664124$--><spark-button type=\"submit\" variant=\"hero\" size=\"large\" trid=\"ispsHAiuJe1hiWnAnf44kA\" trc=\"\">\n",
    "    <!--?lit$136664124$-->Show 1,930 matches\n",
    "  </spark-button>\n",
    "      </spark-fieldset>\n",
    "    </form>\n",
    "'''\n",
    "form_element = cars_search_form_shadow_root.find_element(By.CSS_SELECTOR, 'spark-fieldset')"
   ]
  },
  {
   "cell_type": "code",
   "execution_count": 19,
   "id": "9ee172a8",
   "metadata": {},
   "outputs": [],
   "source": [
    "stock_type_spark_select = cars_search_form_shadow_root.find_element(By.CSS_SELECTOR, 'spark-select[name=\"stock_type\"]')"
   ]
  },
  {
   "cell_type": "code",
   "execution_count": 30,
   "id": "69fe7e1f",
   "metadata": {},
   "outputs": [],
   "source": [
    "stock_type_spark_select_shadow = stock_type_spark_select.shadow_root\n",
    "stock_type_form_control_div = stock_type_spark_select_shadow.find_element(By.CSS_SELECTOR, 'div[part=\"form-control\"]')"
   ]
  },
  {
   "cell_type": "code",
   "execution_count": 31,
   "id": "6489367c",
   "metadata": {},
   "outputs": [],
   "source": [
    "'''\n",
    "    <div part=\"form-control\" class=\" select \">\n",
    "          <div part=\"control-label-container\">\n",
    "            <label part=\"label\" for=\"input\">\n",
    "              <!--?lit$136664124$-->New/used \n",
    "              <slot name=\"label\"></slot>\n",
    "            </label>\n",
    "            <!--?lit$136664124$-->\n",
    "      <!--?lit$136664124$-->\n",
    "      <select part=\"select\" id=\"input\" name=\"stock_type\" aria-invalid=\"false\" aria-describedby=\"\" spellcheck=\"true\">\n",
    "        <!--?lit$136664124$-->\n",
    "        <!--?lit$136664124$--><!---->\n",
    "      <option part=\"option\" value=\"all\">\n",
    "        <!--?lit$136664124$-->New &amp; used\n",
    "      </option>\n",
    "    <!----><!---->\n",
    "      <option part=\"option\" value=\"new_cpo\">\n",
    "        <!--?lit$136664124$-->New &amp; certified\n",
    "      </option>\n",
    "    <!----><!---->\n",
    "      <option part=\"option\" value=\"new\">\n",
    "        <!--?lit$136664124$-->New\n",
    "      </option>\n",
    "    <!----><!---->\n",
    "      <option part=\"option\" value=\"used\" selected=\"\">\n",
    "        <!--?lit$136664124$-->Used\n",
    "      </option>\n",
    "    <!----><!---->\n",
    "      <option part=\"option\" value=\"cpo\">\n",
    "        <!--?lit$136664124$-->Certified\n",
    "      </option>\n",
    "    <!---->\n",
    "      </select>\n",
    "     <!--?lit$136664124$-->\n",
    "    \n",
    "          </div>\n",
    "          <div part=\"error\" class=\"error\" role=\"alert\" id=\"error\" hidden=\"\">\n",
    "            <!--?lit$136664124$-->\n",
    "          </div>\n",
    "          <div part=\"warning\" class=\"warning\" role=\"alert\" id=\"warning\" hidden=\"\">\n",
    "            <!--?lit$136664124$-->\n",
    "          </div>\n",
    "          <div part=\"success\" class=\"success\" role=\"alert\" id=\"success\" hidden=\"\">\n",
    "            <!--?lit$136664124$-->\n",
    "          </div>\n",
    "          <div part=\"helper-text\" class=\"helper-text\" id=\"helper-text\" hidden=\"\">\n",
    "            <!--?lit$136664124$-->\n",
    "          </div>\n",
    "        </div>\n",
    "'''\n",
    "stock_type_select = stock_type_form_control_div.find_element(By.CSS_SELECTOR, 'select#input[name=\"stock_type\"]')"
   ]
  },
  {
   "cell_type": "code",
   "execution_count": null,
   "id": "7bcd0cec",
   "metadata": {},
   "outputs": [
    {
     "name": "stdout",
     "output_type": "stream",
     "text": [
      "before_stock_type = used\n"
     ]
    }
   ],
   "source": [
    "options = stock_type_select.find_elements(By.TAG_NAME, 'option')"
   ]
  },
  {
   "cell_type": "code",
   "execution_count": 38,
   "id": "3773f283",
   "metadata": {},
   "outputs": [],
   "source": [
    "stock_type_select.click()\n"
   ]
  },
  {
   "cell_type": "code",
   "execution_count": 41,
   "id": "3493855a",
   "metadata": {},
   "outputs": [
    {
     "name": "stdout",
     "output_type": "stream",
     "text": [
      "stock type before click = new_cpo\n",
      "stock type after click = new\n"
     ]
    }
   ],
   "source": [
    "before_stock_type = stock_type_select.get_attribute('value')\n",
    "options[2].click()\n",
    "after_stock_type = stock_type_select.get_attribute('value')\n",
    "\n",
    "print(f'stock type before click = {before_stock_type}')\n",
    "print(f'stock type after click = {after_stock_type}')"
   ]
  },
  {
   "cell_type": "code",
   "execution_count": 18,
   "id": "6ab4ac73",
   "metadata": {},
   "outputs": [
    {
     "ename": "NoSuchElementException",
     "evalue": "Message: no such element: Unable to locate element: {\"method\":\"css selector\",\"selector\":\"select#input[name=\"stock_type\"]\"}\n  (Session info: chrome=136.0.7103.114); For documentation on this error, please visit: https://www.selenium.dev/documentation/webdriver/troubleshooting/errors#no-such-element-exception\nStacktrace:\n\tGetHandleVerifier [0x00007FF66D58CF45+75717]\n\tGetHandleVerifier [0x00007FF66D58CFA0+75808]\n\t(No symbol) [0x00007FF66D358F9A]\n\t(No symbol) [0x00007FF66D3AF4C6]\n\t(No symbol) [0x00007FF66D3AF7BC]\n\t(No symbol) [0x00007FF66D3A1DBC]\n\t(No symbol) [0x00007FF66D3D73BF]\n\t(No symbol) [0x00007FF66D3A1C46]\n\t(No symbol) [0x00007FF66D3D7590]\n\t(No symbol) [0x00007FF66D3FF39C]\n\t(No symbol) [0x00007FF66D3D7153]\n\t(No symbol) [0x00007FF66D3A0421]\n\t(No symbol) [0x00007FF66D3A11B3]\n\tGetHandleVerifier [0x00007FF66D88D71D+3223453]\n\tGetHandleVerifier [0x00007FF66D887CC2+3200322]\n\tGetHandleVerifier [0x00007FF66D8A5AF3+3322739]\n\tGetHandleVerifier [0x00007FF66D5A6A1A+180890]\n\tGetHandleVerifier [0x00007FF66D5AE11F+211359]\n\tGetHandleVerifier [0x00007FF66D595294+109332]\n\tGetHandleVerifier [0x00007FF66D595442+109762]\n\tGetHandleVerifier [0x00007FF66D57BA59+4825]\n\tBaseThreadInitThunk [0x00007FF91969E8D7+23]\n\tRtlUserThreadStart [0x00007FF91B17C5DC+44]\n",
     "output_type": "error",
     "traceback": [
      "\u001b[31m---------------------------------------------------------------------------\u001b[39m",
      "\u001b[31mNoSuchElementException\u001b[39m                    Traceback (most recent call last)",
      "\u001b[36mCell\u001b[39m\u001b[36m \u001b[39m\u001b[32mIn[18]\u001b[39m\u001b[32m, line 1\u001b[39m\n\u001b[32m----> \u001b[39m\u001b[32m1\u001b[39m stock_type_select = \u001b[43mcars_search_form_shadow_root\u001b[49m\u001b[43m.\u001b[49m\u001b[43mfind_element\u001b[49m\u001b[43m(\u001b[49m\u001b[43mBy\u001b[49m\u001b[43m.\u001b[49m\u001b[43mCSS_SELECTOR\u001b[49m\u001b[43m,\u001b[49m\u001b[43m \u001b[49m\u001b[33;43m'\u001b[39;49m\u001b[33;43mselect#input[name=\u001b[39;49m\u001b[33;43m\"\u001b[39;49m\u001b[33;43mstock_type\u001b[39;49m\u001b[33;43m\"\u001b[39;49m\u001b[33;43m]\u001b[39;49m\u001b[33;43m'\u001b[39;49m\u001b[43m)\u001b[49m\n",
      "\u001b[36mFile \u001b[39m\u001b[32mc:\\Users\\gmuah\\OneDrive\\Desktop\\PROJECTS-Python\\LearningCenter\\.venv\\Lib\\site-packages\\selenium\\webdriver\\remote\\shadowroot.py:79\u001b[39m, in \u001b[36mShadowRoot.find_element\u001b[39m\u001b[34m(self, by, value)\u001b[39m\n\u001b[32m     76\u001b[39m     by = By.CSS_SELECTOR\n\u001b[32m     77\u001b[39m     value = \u001b[33mf\u001b[39m\u001b[33m'\u001b[39m\u001b[33m[name=\u001b[39m\u001b[33m\"\u001b[39m\u001b[38;5;132;01m{\u001b[39;00mvalue\u001b[38;5;132;01m}\u001b[39;00m\u001b[33m\"\u001b[39m\u001b[33m]\u001b[39m\u001b[33m'\u001b[39m\n\u001b[32m---> \u001b[39m\u001b[32m79\u001b[39m \u001b[38;5;28;01mreturn\u001b[39;00m \u001b[38;5;28;43mself\u001b[39;49m\u001b[43m.\u001b[49m\u001b[43m_execute\u001b[49m\u001b[43m(\u001b[49m\u001b[43mCommand\u001b[49m\u001b[43m.\u001b[49m\u001b[43mFIND_ELEMENT_FROM_SHADOW_ROOT\u001b[49m\u001b[43m,\u001b[49m\u001b[43m \u001b[49m\u001b[43m{\u001b[49m\u001b[33;43m\"\u001b[39;49m\u001b[33;43musing\u001b[39;49m\u001b[33;43m\"\u001b[39;49m\u001b[43m:\u001b[49m\u001b[43m \u001b[49m\u001b[43mby\u001b[49m\u001b[43m,\u001b[49m\u001b[43m \u001b[49m\u001b[33;43m\"\u001b[39;49m\u001b[33;43mvalue\u001b[39;49m\u001b[33;43m\"\u001b[39;49m\u001b[43m:\u001b[49m\u001b[43m \u001b[49m\u001b[43mvalue\u001b[49m\u001b[43m}\u001b[49m\u001b[43m)\u001b[49m[\u001b[33m\"\u001b[39m\u001b[33mvalue\u001b[39m\u001b[33m\"\u001b[39m]\n",
      "\u001b[36mFile \u001b[39m\u001b[32mc:\\Users\\gmuah\\OneDrive\\Desktop\\PROJECTS-Python\\LearningCenter\\.venv\\Lib\\site-packages\\selenium\\webdriver\\remote\\shadowroot.py:133\u001b[39m, in \u001b[36mShadowRoot._execute\u001b[39m\u001b[34m(self, command, params)\u001b[39m\n\u001b[32m    131\u001b[39m     params = {}\n\u001b[32m    132\u001b[39m params[\u001b[33m\"\u001b[39m\u001b[33mshadowId\u001b[39m\u001b[33m\"\u001b[39m] = \u001b[38;5;28mself\u001b[39m._id\n\u001b[32m--> \u001b[39m\u001b[32m133\u001b[39m \u001b[38;5;28;01mreturn\u001b[39;00m \u001b[38;5;28;43mself\u001b[39;49m\u001b[43m.\u001b[49m\u001b[43msession\u001b[49m\u001b[43m.\u001b[49m\u001b[43mexecute\u001b[49m\u001b[43m(\u001b[49m\u001b[43mcommand\u001b[49m\u001b[43m,\u001b[49m\u001b[43m \u001b[49m\u001b[43mparams\u001b[49m\u001b[43m)\u001b[49m\n",
      "\u001b[36mFile \u001b[39m\u001b[32mc:\\Users\\gmuah\\OneDrive\\Desktop\\PROJECTS-Python\\LearningCenter\\.venv\\Lib\\site-packages\\selenium\\webdriver\\remote\\webdriver.py:448\u001b[39m, in \u001b[36mWebDriver.execute\u001b[39m\u001b[34m(self, driver_command, params)\u001b[39m\n\u001b[32m    446\u001b[39m response = \u001b[38;5;28mself\u001b[39m.command_executor.execute(driver_command, params)\n\u001b[32m    447\u001b[39m \u001b[38;5;28;01mif\u001b[39;00m response:\n\u001b[32m--> \u001b[39m\u001b[32m448\u001b[39m     \u001b[38;5;28;43mself\u001b[39;49m\u001b[43m.\u001b[49m\u001b[43merror_handler\u001b[49m\u001b[43m.\u001b[49m\u001b[43mcheck_response\u001b[49m\u001b[43m(\u001b[49m\u001b[43mresponse\u001b[49m\u001b[43m)\u001b[49m\n\u001b[32m    449\u001b[39m     response[\u001b[33m\"\u001b[39m\u001b[33mvalue\u001b[39m\u001b[33m\"\u001b[39m] = \u001b[38;5;28mself\u001b[39m._unwrap_value(response.get(\u001b[33m\"\u001b[39m\u001b[33mvalue\u001b[39m\u001b[33m\"\u001b[39m, \u001b[38;5;28;01mNone\u001b[39;00m))\n\u001b[32m    450\u001b[39m     \u001b[38;5;28;01mreturn\u001b[39;00m response\n",
      "\u001b[36mFile \u001b[39m\u001b[32mc:\\Users\\gmuah\\OneDrive\\Desktop\\PROJECTS-Python\\LearningCenter\\.venv\\Lib\\site-packages\\selenium\\webdriver\\remote\\errorhandler.py:232\u001b[39m, in \u001b[36mErrorHandler.check_response\u001b[39m\u001b[34m(self, response)\u001b[39m\n\u001b[32m    230\u001b[39m         alert_text = value[\u001b[33m\"\u001b[39m\u001b[33malert\u001b[39m\u001b[33m\"\u001b[39m].get(\u001b[33m\"\u001b[39m\u001b[33mtext\u001b[39m\u001b[33m\"\u001b[39m)\n\u001b[32m    231\u001b[39m     \u001b[38;5;28;01mraise\u001b[39;00m exception_class(message, screen, stacktrace, alert_text)  \u001b[38;5;66;03m# type: ignore[call-arg]  # mypy is not smart enough here\u001b[39;00m\n\u001b[32m--> \u001b[39m\u001b[32m232\u001b[39m \u001b[38;5;28;01mraise\u001b[39;00m exception_class(message, screen, stacktrace)\n",
      "\u001b[31mNoSuchElementException\u001b[39m: Message: no such element: Unable to locate element: {\"method\":\"css selector\",\"selector\":\"select#input[name=\"stock_type\"]\"}\n  (Session info: chrome=136.0.7103.114); For documentation on this error, please visit: https://www.selenium.dev/documentation/webdriver/troubleshooting/errors#no-such-element-exception\nStacktrace:\n\tGetHandleVerifier [0x00007FF66D58CF45+75717]\n\tGetHandleVerifier [0x00007FF66D58CFA0+75808]\n\t(No symbol) [0x00007FF66D358F9A]\n\t(No symbol) [0x00007FF66D3AF4C6]\n\t(No symbol) [0x00007FF66D3AF7BC]\n\t(No symbol) [0x00007FF66D3A1DBC]\n\t(No symbol) [0x00007FF66D3D73BF]\n\t(No symbol) [0x00007FF66D3A1C46]\n\t(No symbol) [0x00007FF66D3D7590]\n\t(No symbol) [0x00007FF66D3FF39C]\n\t(No symbol) [0x00007FF66D3D7153]\n\t(No symbol) [0x00007FF66D3A0421]\n\t(No symbol) [0x00007FF66D3A11B3]\n\tGetHandleVerifier [0x00007FF66D88D71D+3223453]\n\tGetHandleVerifier [0x00007FF66D887CC2+3200322]\n\tGetHandleVerifier [0x00007FF66D8A5AF3+3322739]\n\tGetHandleVerifier [0x00007FF66D5A6A1A+180890]\n\tGetHandleVerifier [0x00007FF66D5AE11F+211359]\n\tGetHandleVerifier [0x00007FF66D595294+109332]\n\tGetHandleVerifier [0x00007FF66D595442+109762]\n\tGetHandleVerifier [0x00007FF66D57BA59+4825]\n\tBaseThreadInitThunk [0x00007FF91969E8D7+23]\n\tRtlUserThreadStart [0x00007FF91B17C5DC+44]\n"
     ]
    }
   ],
   "source": [
    "stock_type_select = cars_search_form_shadow_root.find_element(By.CSS_SELECTOR, 'select#input[name=\"stock_type\"]')"
   ]
  },
  {
   "cell_type": "code",
   "execution_count": null,
   "id": "1dfc9120",
   "metadata": {},
   "outputs": [],
   "source": [
    "driver.close()"
   ]
  }
 ],
 "metadata": {
  "kernelspec": {
   "display_name": ".venv",
   "language": "python",
   "name": "python3"
  },
  "language_info": {
   "codemirror_mode": {
    "name": "ipython",
    "version": 3
   },
   "file_extension": ".py",
   "mimetype": "text/x-python",
   "name": "python",
   "nbconvert_exporter": "python",
   "pygments_lexer": "ipython3",
   "version": "3.11.9"
  }
 },
 "nbformat": 4,
 "nbformat_minor": 5
}
