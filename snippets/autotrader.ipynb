{
 "cells": [
  {
   "cell_type": "code",
   "execution_count": 1,
   "id": "c4abc3cf",
   "metadata": {},
   "outputs": [],
   "source": [
    "from selenium import webdriver\n",
    "from selenium.webdriver.common.by import By"
   ]
  },
  {
   "cell_type": "code",
   "execution_count": 2,
   "id": "2c2d7796",
   "metadata": {},
   "outputs": [],
   "source": [
    "driver = webdriver.Chrome()\n",
    "driver.get('https://www.autotrader.com/')"
   ]
  },
  {
   "cell_type": "code",
   "execution_count": 3,
   "id": "31c298b2",
   "metadata": {},
   "outputs": [],
   "source": [
    "'''\n",
    "<select id=\":R2pd4776:\" class=\"form-control\" aria-label=\"Select [object Object]\" name=\"makeCode\" labelclassname=\"text-inverse\" fdprocessedid=\"lc9rme\">\n",
    "    <option label=\"Any Make\" value=\"\" selected=\"\">Any Make</option><optgroup label=\"Popular Makes\"><option value=\"ACURA\" label=\"Acura\">Acura</option><option value=\"AUDI\" label=\"Audi\">Audi</option><option value=\"BMW\" label=\"BMW\">BMW</option><option value=\"BUICK\" label=\"Buick\">Buick</option><option value=\"CAD\" label=\"Cadillac\">Cadillac</option><option value=\"CHEV\" label=\"Chevrolet\">Chevrolet</option><option value=\"CHRY\" label=\"Chrysler\">Chrysler</option><option value=\"DODGE\" label=\"Dodge\">Dodge</option><option value=\"FER\" label=\"Ferrari\">Ferrari</option><option value=\"FORD\" label=\"Ford\">Ford</option><option value=\"GMC\" label=\"GMC\">GMC</option><option value=\"GENESIS\" label=\"Genesis\">Genesis</option><option value=\"HONDA\" label=\"Honda\">Honda</option><option value=\"HYUND\" label=\"Hyundai\">Hyundai</option><option value=\"INFIN\" label=\"INFINITI\">INFINITI</option><option value=\"JAG\" label=\"Jaguar\">Jaguar</option><option value=\"JEEP\" label=\"Jeep\">Jeep</option><option value=\"KIA\" label=\"Kia\">Kia</option><option value=\"ROV\" label=\"Land Rover\">Land Rover</option><option value=\"LEXUS\" label=\"Lexus\">Lexus</option><option value=\"LINC\" label=\"Lincoln\">Lincoln</option><option value=\"MAZDA\" label=\"MAZDA\">MAZDA</option><option value=\"MINI\" label=\"MINI\">MINI</option><option value=\"MB\" label=\"Mercedes-Benz\">Mercedes-Benz</option><option value=\"MIT\" label=\"Mitsubishi\">Mitsubishi</option><option value=\"NISSAN\" label=\"Nissan\">Nissan</option><option value=\"POLESTAR\" label=\"Polestar\">Polestar</option><option value=\"POR\" label=\"Porsche\">Porsche</option><option value=\"RAM\" label=\"RAM\">RAM</option><option value=\"SUB\" label=\"Subaru\">Subaru</option><option value=\"TESLA\" label=\"Tesla\">Tesla</option><option value=\"TOYOTA\" label=\"Toyota\">Toyota</option><option value=\"VOLKS\" label=\"Volkswagen\">Volkswagen</option><option value=\"VOLVO\" label=\"Volvo\">Volvo</option></optgroup><optgroup label=\"All Makes\"><option label=\"AMC\" value=\"AMC\">AMC</option><option label=\"Acura\" value=\"ACURA\">Acura</option><option label=\"Alfa Romeo\" value=\"ALFA\">Alfa Romeo</option><option label=\"Aston Martin\" value=\"ASTON\">Aston Martin</option><option label=\"Audi\" value=\"AUDI\">Audi</option><option label=\"BMW\" value=\"BMW\">BMW</option><option label=\"Bentley\" value=\"BENTL\">Bentley</option><option label=\"Bugatti\" value=\"BUGATTI\">Bugatti</option><option label=\"Buick\" value=\"BUICK\">Buick</option><option label=\"Cadillac\" value=\"CAD\">Cadillac</option><option label=\"Chevrolet\" value=\"CHEV\">Chevrolet</option><option label=\"Chrysler\" value=\"CHRY\">Chrysler</option><option label=\"Daewoo\" value=\"DAEW\">Daewoo</option><option label=\"Datsun\" value=\"DATSUN\">Datsun</option><option label=\"DeLorean\" value=\"DELOREAN\">DeLorean</option><option label=\"Dodge\" value=\"DODGE\">Dodge</option><option label=\"Eagle\" value=\"EAGLE\">Eagle</option><option label=\"FIAT\" value=\"FIAT\">FIAT</option><option label=\"Ferrari\" value=\"FER\">Ferrari</option><option label=\"Fisker\" value=\"FISK\">Fisker</option><option label=\"Ford\" value=\"FORD\">Ford</option><option label=\"Freightliner\" value=\"FREIGHT\">Freightliner</option><option label=\"GMC\" value=\"GMC\">GMC</option><option label=\"Genesis\" value=\"GENESIS\">Genesis</option><option label=\"Geo\" value=\"GEO\">Geo</option><option label=\"HUMMER\" value=\"AMGEN\">HUMMER</option><option label=\"Honda\" value=\"HONDA\">Honda</option><option label=\"Hyundai\" value=\"HYUND\">Hyundai</option><option label=\"INEOS\" value=\"INEOS\">INEOS</option><option label=\"INFINITI\" value=\"INFIN\">INFINITI</option><option label=\"Isuzu\" value=\"ISU\">Isuzu</option><option label=\"Jaguar\" value=\"JAG\">Jaguar</option><option label=\"Jeep\" value=\"JEEP\">Jeep</option><option label=\"Karma\" value=\"KARMA\">Karma</option><option label=\"Kia\" value=\"KIA\">Kia</option><option label=\"Lamborghini\" value=\"LAM\">Lamborghini</option><option label=\"Land Rover\" value=\"ROV\">Land Rover</option><option label=\"Lexus\" value=\"LEXUS\">Lexus</option><option label=\"Lincoln\" value=\"LINC\">Lincoln</option><option label=\"Lotus\" value=\"LOTUS\">Lotus</option><option label=\"Lucid\" value=\"LUCID\">Lucid</option><option label=\"MAZDA\" value=\"MAZDA\">MAZDA</option><option label=\"MINI\" value=\"MINI\">MINI</option><option label=\"Maserati\" value=\"MAS\">Maserati</option><option label=\"Maybach\" value=\"MAYBACH\">Maybach</option><option label=\"McLaren\" value=\"MCLAREN\">McLaren</option><option label=\"Mercedes-Benz\" value=\"MB\">Mercedes-Benz</option><option label=\"Mercury\" value=\"MERC\">Mercury</option><option label=\"Mitsubishi\" value=\"MIT\">Mitsubishi</option><option label=\"Nissan\" value=\"NISSAN\">Nissan</option><option label=\"Oldsmobile\" value=\"OLDS\">Oldsmobile</option><option label=\"Plymouth\" value=\"PLYM\">Plymouth</option><option label=\"Polestar\" value=\"POLESTAR\">Polestar</option><option label=\"Pontiac\" value=\"PONT\">Pontiac</option><option label=\"Porsche\" value=\"POR\">Porsche</option><option label=\"RAM\" value=\"RAM\">RAM</option><option label=\"Rivian\" value=\"RIVIAN\">Rivian</option><option label=\"Rolls-Royce\" value=\"RR\">Rolls-Royce</option><option label=\"SRT\" value=\"SRT\">SRT</option><option label=\"Saab\" value=\"SAAB\">Saab</option><option label=\"Saturn\" value=\"SATURN\">Saturn</option><option label=\"Scion\" value=\"SCION\">Scion</option><option label=\"Subaru\" value=\"SUB\">Subaru</option><option label=\"Suzuki\" value=\"SUZUKI\">Suzuki</option><option label=\"Tesla\" value=\"TESLA\">Tesla</option><option label=\"Toyota\" value=\"TOYOTA\">Toyota</option><option label=\"VinFast\" value=\"VINFAST\">VinFast</option><option label=\"Volkswagen\" value=\"VOLKS\">Volkswagen</option><option label=\"Volvo\" value=\"VOLVO\">Volvo</option><option label=\"Yugo\" value=\"YUGO\">Yugo</option><option label=\"smart\" value=\"SMART\">smart</option></optgroup>\n",
    "</select>\n",
    "'''\n",
    "\n",
    "make_code_select = driver.find_element(By.CSS_SELECTOR, 'select[name=\"makeCode\"]')"
   ]
  },
  {
   "cell_type": "code",
   "execution_count": 4,
   "id": "60061424",
   "metadata": {},
   "outputs": [
    {
     "name": "stdout",
     "output_type": "stream",
     "text": [
      "current makeCode value = \"\"\n"
     ]
    }
   ],
   "source": [
    "print(f'current makeCode value = \"{make_code_select.get_attribute(\"value\")}\"')\n",
    "before_is_disp = make_code_select.is_displayed()\n",
    "before_is_enbld = make_code_select.is_enabled()\n",
    "before_is_selected = make_code_select.is_selected()\n",
    "make_code_select.click()\n",
    "after_is_disp = make_code_select.is_displayed()\n",
    "after_is_enbld = make_code_select.is_enabled()\n",
    "after_is_selected = make_code_select.is_selected()"
   ]
  },
  {
   "cell_type": "code",
   "execution_count": 8,
   "id": "94184692",
   "metadata": {},
   "outputs": [
    {
     "name": "stdout",
     "output_type": "stream",
     "text": [
      "the number of option groups is 2\n",
      "the option group names are Acura\n",
      "Audi\n",
      "BMW\n",
      "Buick\n",
      "Cadillac\n",
      "Chevrolet\n",
      "Chrysler\n",
      "Dodge\n",
      "Ferrari\n",
      "Ford\n",
      "GMC\n",
      "Genesis\n",
      "Honda\n",
      "Hyundai\n",
      "INFINITI\n",
      "Jaguar\n",
      "Jeep\n",
      "Kia\n",
      "Land Rover\n",
      "Lexus\n",
      "Lincoln\n",
      "MAZDA\n",
      "MINI\n",
      "Mercedes-Benz\n",
      "Mitsubishi\n",
      "Nissan\n",
      "Polestar\n",
      "Porsche\n",
      "RAM\n",
      "Subaru\n",
      "Tesla\n",
      "Toyota\n",
      "Volkswagen\n",
      "Volvo, AMC\n",
      "Acura\n",
      "Alfa Romeo\n",
      "Aston Martin\n",
      "Audi\n",
      "BMW\n",
      "Bentley\n",
      "Bugatti\n",
      "Buick\n",
      "Cadillac\n",
      "Chevrolet\n",
      "Chrysler\n",
      "Daewoo\n",
      "Datsun\n",
      "DeLorean\n",
      "Dodge\n",
      "Eagle\n",
      "FIAT\n",
      "Ferrari\n",
      "Fisker\n",
      "Ford\n",
      "Freightliner\n",
      "GMC\n",
      "Genesis\n",
      "Geo\n",
      "HUMMER\n",
      "Honda\n",
      "Hyundai\n",
      "INEOS\n",
      "INFINITI\n",
      "Isuzu\n",
      "Jaguar\n",
      "Jeep\n",
      "Karma\n",
      "Kia\n",
      "Lamborghini\n",
      "Land Rover\n",
      "Lexus\n",
      "Lincoln\n",
      "Lotus\n",
      "Lucid\n",
      "MAZDA\n",
      "MINI\n",
      "Maserati\n",
      "Maybach\n",
      "McLaren\n",
      "Mercedes-Benz\n",
      "Mercury\n",
      "Mitsubishi\n",
      "Nissan\n",
      "Oldsmobile\n",
      "Plymouth\n",
      "Polestar\n",
      "Pontiac\n",
      "Porsche\n",
      "RAM\n",
      "Rivian\n",
      "Rolls-Royce\n",
      "SRT\n",
      "Saab\n",
      "Saturn\n",
      "Scion\n",
      "Subaru\n",
      "Suzuki\n",
      "Tesla\n",
      "Toyota\n",
      "VinFast\n",
      "Volkswagen\n",
      "Volvo\n",
      "Yugo\n",
      "smart\n"
     ]
    }
   ],
   "source": [
    "any_make_option = make_code_select.find_element(By.CSS_SELECTOR, 'option[label=\"Any Make\"]')\n",
    "\n",
    "make_option_grps = make_code_select.find_elements(By.TAG_NAME, 'optgroup')\n",
    "\n",
    "print(f'the number of option groups is {len(make_option_grps)}')\n",
    "option_group_names = [option.text for option in make_option_grps]\n",
    "print(f'the option group names are {\", \".join(option_group_names)}')\n"
   ]
  }
 ],
 "metadata": {
  "kernelspec": {
   "display_name": ".venv",
   "language": "python",
   "name": "python3"
  },
  "language_info": {
   "codemirror_mode": {
    "name": "ipython",
    "version": 3
   },
   "file_extension": ".py",
   "mimetype": "text/x-python",
   "name": "python",
   "nbconvert_exporter": "python",
   "pygments_lexer": "ipython3",
   "version": "3.11.9"
  }
 },
 "nbformat": 4,
 "nbformat_minor": 5
}
